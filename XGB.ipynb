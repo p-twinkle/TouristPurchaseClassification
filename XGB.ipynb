{
 "cells": [
  {
   "cell_type": "code",
   "execution_count": 1,
   "id": "14cc13cd-8cd6-4d82-bb84-fdc81597df57",
   "metadata": {},
   "outputs": [],
   "source": [
    "import numpy as np\n",
    "import pandas as pd\n",
    "\n",
    "import warnings\n",
    "warnings.simplefilter('ignore')"
   ]
  },
  {
   "cell_type": "code",
   "execution_count": 2,
   "id": "27ca2578-b948-403f-9b79-ef0c4fa276af",
   "metadata": {},
   "outputs": [
    {
     "data": {
      "text/html": [
       "<div>\n",
       "<style scoped>\n",
       "    .dataframe tbody tr th:only-of-type {\n",
       "        vertical-align: middle;\n",
       "    }\n",
       "\n",
       "    .dataframe tbody tr th {\n",
       "        vertical-align: top;\n",
       "    }\n",
       "\n",
       "    .dataframe thead th {\n",
       "        text-align: right;\n",
       "    }\n",
       "</style>\n",
       "<table border=\"1\" class=\"dataframe\">\n",
       "  <thead>\n",
       "    <tr style=\"text-align: right;\">\n",
       "      <th></th>\n",
       "      <th>UserID</th>\n",
       "      <th>Taken_product</th>\n",
       "      <th>Yearly_avg_view_on_travel_page</th>\n",
       "      <th>total_likes_on_outstation_checkin_given</th>\n",
       "      <th>yearly_avg_Outstation_checkins</th>\n",
       "      <th>member_in_family</th>\n",
       "      <th>preferred_location_type</th>\n",
       "      <th>Yearly_avg_comment_on_travel_page</th>\n",
       "      <th>total_likes_on_outofstation_checkin_received</th>\n",
       "      <th>week_since_last_outstation_checkin</th>\n",
       "      <th>following_company_page</th>\n",
       "      <th>montly_avg_comment_on_company_page</th>\n",
       "      <th>working_flag</th>\n",
       "      <th>travelling_network_rating</th>\n",
       "      <th>Adult_flag</th>\n",
       "      <th>Daily_Avg_mins_spend_on_traveling_page</th>\n",
       "    </tr>\n",
       "  </thead>\n",
       "  <tbody>\n",
       "    <tr>\n",
       "      <th>0</th>\n",
       "      <td>1000001</td>\n",
       "      <td>Yes</td>\n",
       "      <td>307.0</td>\n",
       "      <td>38570.0</td>\n",
       "      <td>1</td>\n",
       "      <td>2</td>\n",
       "      <td>Financial</td>\n",
       "      <td>94.0</td>\n",
       "      <td>5993</td>\n",
       "      <td>8</td>\n",
       "      <td>Yes</td>\n",
       "      <td>11</td>\n",
       "      <td>No</td>\n",
       "      <td>1</td>\n",
       "      <td>0.0</td>\n",
       "      <td>8.0</td>\n",
       "    </tr>\n",
       "  </tbody>\n",
       "</table>\n",
       "</div>"
      ],
      "text/plain": [
       "    UserID Taken_product  Yearly_avg_view_on_travel_page  \\\n",
       "0  1000001           Yes                           307.0   \n",
       "\n",
       "   total_likes_on_outstation_checkin_given yearly_avg_Outstation_checkins  \\\n",
       "0                                  38570.0                              1   \n",
       "\n",
       "  member_in_family preferred_location_type  Yearly_avg_comment_on_travel_page  \\\n",
       "0                2               Financial                               94.0   \n",
       "\n",
       "   total_likes_on_outofstation_checkin_received  \\\n",
       "0                                          5993   \n",
       "\n",
       "   week_since_last_outstation_checkin following_company_page  \\\n",
       "0                                   8                    Yes   \n",
       "\n",
       "   montly_avg_comment_on_company_page working_flag  travelling_network_rating  \\\n",
       "0                                  11           No                          1   \n",
       "\n",
       "   Adult_flag  Daily_Avg_mins_spend_on_traveling_page  \n",
       "0         0.0                                     8.0  "
      ]
     },
     "execution_count": 2,
     "metadata": {},
     "output_type": "execute_result"
    }
   ],
   "source": [
    "df = pd.read_csv('modified_tra.csv')\n",
    "df.head(1)"
   ]
  },
  {
   "cell_type": "code",
   "execution_count": 3,
   "id": "bd7b2c1d-e5f0-491b-a879-d005ee63dec6",
   "metadata": {},
   "outputs": [
    {
     "data": {
      "text/plain": [
       "Taken_product                                       Yes\n",
       "Yearly_avg_view_on_travel_page                    277.0\n",
       "total_likes_on_outstation_checkin_given         48055.0\n",
       "yearly_avg_Outstation_checkins                        1\n",
       "member_in_family                                      2\n",
       "preferred_location_type                           Other\n",
       "Yearly_avg_comment_on_travel_page                  92.0\n",
       "total_likes_on_outofstation_checkin_received       2090\n",
       "week_since_last_outstation_checkin                    6\n",
       "following_company_page                              Yes\n",
       "montly_avg_comment_on_company_page                   15\n",
       "working_flag                                         No\n",
       "travelling_network_rating                             2\n",
       "Adult_flag                                          0.0\n",
       "Daily_Avg_mins_spend_on_traveling_page              7.0\n",
       "Name: 2, dtype: object"
      ]
     },
     "execution_count": 3,
     "metadata": {},
     "output_type": "execute_result"
    }
   ],
   "source": [
    "df.drop(columns = 'UserID', inplace = True)\n",
    "df.iloc[2]"
   ]
  },
  {
   "cell_type": "code",
   "execution_count": 4,
   "id": "2cc0c377-3774-43c5-93ed-e052bad06237",
   "metadata": {},
   "outputs": [],
   "source": [
    "# for col in df.columns:\n",
    "#     print(col)\n",
    "#     print(df[col].unique())"
   ]
  },
  {
   "cell_type": "code",
   "execution_count": 5,
   "id": "eb6403bc-df52-46ce-be57-1e32347b9b99",
   "metadata": {},
   "outputs": [],
   "source": [
    "# following_company_page\n",
    "df['following_company_page'].replace({'Yes': True\n",
    "                                      , '1': True\n",
    "                                      , '0': False\n",
    "                                      , 'No': False}, inplace = True)\n",
    "\n",
    "# member_in_family\n",
    "df['member_in_family'].replace({'Three': 3}, inplace = True)\n",
    "\n",
    "# Boolean columns\n",
    "bool_cols = ['working_flag', 'Taken_product']\n",
    "for col in bool_cols:\n",
    "    df[col].replace({'Yes': True, 'No': False}, inplace = True)\n",
    "\n",
    "# Drop *\n",
    "df = df[df['yearly_avg_Outstation_checkins'] != '*']\n",
    "\n",
    "# Location type\n",
    "df['preferred_location_type'].replace({'Game': 'Other'\n",
    "                                      , 'Tour  Travel': 'Other'\n",
    "                                      , 'Tour and Travel': 'Other'\n",
    "                                      , 'Movie': 'Other'\n",
    "                                      , 'OTT': 'Other'\n",
    "                                      }, inplace = True)"
   ]
  },
  {
   "cell_type": "code",
   "execution_count": 6,
   "id": "5531f601-bc1e-4585-a798-8aa8a39cbbfe",
   "metadata": {},
   "outputs": [
    {
     "data": {
      "text/plain": [
       "Index(['Taken_product', 'Yearly_avg_view_on_travel_page',\n",
       "       'total_likes_on_outstation_checkin_given',\n",
       "       'yearly_avg_Outstation_checkins', 'member_in_family',\n",
       "       'Yearly_avg_comment_on_travel_page',\n",
       "       'total_likes_on_outofstation_checkin_received',\n",
       "       'week_since_last_outstation_checkin', 'following_company_page',\n",
       "       'montly_avg_comment_on_company_page', 'working_flag',\n",
       "       'travelling_network_rating', 'Adult_flag',\n",
       "       'Daily_Avg_mins_spend_on_traveling_page',\n",
       "       'preferred_location_type_Beach', 'preferred_location_type_Big Cities',\n",
       "       'preferred_location_type_Entertainment',\n",
       "       'preferred_location_type_Financial',\n",
       "       'preferred_location_type_Hill Stations',\n",
       "       'preferred_location_type_Historical site',\n",
       "       'preferred_location_type_Medical', 'preferred_location_type_Other',\n",
       "       'preferred_location_type_Social media',\n",
       "       'preferred_location_type_Trekking'],\n",
       "      dtype='object')"
      ]
     },
     "execution_count": 6,
     "metadata": {},
     "output_type": "execute_result"
    }
   ],
   "source": [
    "# Apply one-hot encoding\n",
    "df = pd.get_dummies(df, columns=['preferred_location_type'])\n",
    "df.columns"
   ]
  },
  {
   "cell_type": "code",
   "execution_count": 7,
   "id": "6ef857c9-5b15-4ae0-a866-0a06b62767a0",
   "metadata": {},
   "outputs": [],
   "source": [
    "df.to_csv('tourism_clean.csv', index = False)"
   ]
  },
  {
   "cell_type": "code",
   "execution_count": 8,
   "id": "44495b9f-8b99-4472-88af-f466840c3f5b",
   "metadata": {},
   "outputs": [],
   "source": [
    "df['yearly_avg_Outstation_checkins'] = df['yearly_avg_Outstation_checkins'].astype('float64')\n",
    "df['member_in_family'] = df['member_in_family'].astype('float64')"
   ]
  },
  {
   "cell_type": "code",
   "execution_count": 9,
   "id": "14c9e047-5266-4a69-ad06-8635c6b3d56f",
   "metadata": {},
   "outputs": [],
   "source": [
    "from sklearn.model_selection import train_test_split, GridSearchCV\n",
    "from sklearn.metrics import *\n",
    "\n",
    "import matplotlib.pyplot as plt\n",
    "from matplotlib.pyplot import *\n",
    "import seaborn as sns\n",
    "import warnings\n",
    "\n",
    "warnings.filterwarnings('ignore')\n",
    "\n",
    "np.random.seed(1)\n",
    "\n",
    "# Load dataset\n",
    "X = df.drop(columns ='Taken_product')\n",
    "y = df['Taken_product']\n",
    "\n",
    "# Split dataset into training and testing sets\n",
    "X_train, X_test, y_train, y_test = train_test_split(X, y, test_size = 0.30, random_state = 1)"
   ]
  },
  {
   "cell_type": "markdown",
   "id": "ddc7abc8-00ac-4b06-8cce-96de92859471",
   "metadata": {},
   "source": [
    "### XGBoost"
   ]
  },
  {
   "cell_type": "markdown",
   "id": "b89bb9ba-d5e9-4343-a883-f4ca6328c84c",
   "metadata": {},
   "source": [
    "### XGBoost tuning"
   ]
  },
  {
   "cell_type": "code",
   "execution_count": 10,
   "id": "a9c74e6a-c72c-4d29-b641-f88a077f6335",
   "metadata": {},
   "outputs": [
    {
     "name": "stdout",
     "output_type": "stream",
     "text": [
      "(10454, 24)\n",
      "(7317, 23)\n",
      "(7317,)\n",
      "(3137, 23)\n",
      "(3137,)\n"
     ]
    }
   ],
   "source": [
    "# Have used same split as in GBM\n",
    "print(df.shape)\n",
    "print(X_train.shape)\n",
    "print(y_train.shape)\n",
    "print(X_test.shape)\n",
    "print(y_test.shape)"
   ]
  },
  {
   "cell_type": "code",
   "execution_count": 11,
   "id": "f31a2ddd-b4f1-4846-88de-65775eaf08e9",
   "metadata": {},
   "outputs": [
    {
     "name": "stdout",
     "output_type": "stream",
     "text": [
      "Fitting 4 folds for each of 576 candidates, totalling 2304 fits\n",
      "Best parameters found:  {'colsample_bytree': 0.8, 'gamma': 0, 'learning_rate': 0.1, 'max_depth': 10, 'n_estimators': 1000}\n",
      "Best cross-validation score: 0.9896\n",
      "Test set accuracy: 1.0000\n"
     ]
    }
   ],
   "source": [
    "import xgboost\n",
    "from xgboost import XGBClassifier\n",
    "from sklearn.datasets import load_iris\n",
    "from sklearn.model_selection import train_test_split\n",
    "from sklearn.metrics import accuracy_score\n",
    "\n",
    "# Define the parameter grid\n",
    "param_grid = {\n",
    "    'n_estimators': [100, 150, 500, 1000],\n",
    "    'max_depth': [2, 4, 6, 10],\n",
    "    'learning_rate': [0.001, 0.01, 0.05, 0.1],\n",
    "    'colsample_bytree': [0.6, 0.8, 1.0],\n",
    "    'gamma': [0, 0.1, 0.2]\n",
    "}\n",
    "\n",
    "# Create an XGBoost classifier\n",
    "xgb_model = XGBClassifier(eval_metric='mlogloss') # Removed: use_label_encoder=False\n",
    "\n",
    "# Set up GridSearchCV\n",
    "grid_search = GridSearchCV(estimator=xgb_model\n",
    "                           , param_grid=param_grid, cv=4, scoring='accuracy', n_jobs=-1, verbose=1)\n",
    "\n",
    "# Fit the model\n",
    "grid_search.fit(X_train, y_train)\n",
    "\n",
    "# Best parameters and best score\n",
    "print(\"Best parameters found: \", grid_search.best_params_)\n",
    "print(\"Best cross-validation score: {:.4f}\".format(grid_search.best_score_))\n",
    "\n",
    "# Evaluate the model on the train set\n",
    "best_model = grid_search.best_estimator_\n",
    "xhat = best_model.predict(X_train)\n",
    "\n",
    "accuracy = accuracy_score(y_train, xhat)\n",
    "print(f'Train set accuracy: {accuracy:.4f}')\n",
    "\n",
    "# Evaluate the model on the test set\n",
    "best_model = grid_search.best_estimator_\n",
    "yhat = best_model.predict(X_test)\n",
    "\n",
    "accuracy = accuracy_score(y_test, yhat)\n",
    "print(f'Test set accuracy: {accuracy:.4f}')"
   ]
  },
  {
   "cell_type": "code",
   "execution_count": 13,
   "id": "e4883e8c-ab3f-4ce9-97c7-7bc04c895da6",
   "metadata": {},
   "outputs": [
    {
     "name": "stdout",
     "output_type": "stream",
     "text": [
      "Accuracy: 1.00\n",
      "Confusion Matrix:\n",
      "[[2621    0]\n",
      " [   1  515]]\n"
     ]
    },
    {
     "data": {
      "image/png": "[encoded data removed]",
      "text/plain": [
       "<Figure size 600x400 with 2 Axes>"
      ]
     },
     "metadata": {},
     "output_type": "display_data"
    },
    {
     "name": "stdout",
     "output_type": "stream",
     "text": [
      "Precision: 1.00\n",
      "Recall: 1.00\n",
      "F1 Score: 1.00\n",
      "ROC AUC Score: 1.00\n"
     ]
    },
    {
     "data": {
      "image/png": "[encoded data removed]",
      "text/plain": [
       "<Figure size 640x480 with 1 Axes>"
      ]
     },
     "metadata": {},
     "output_type": "display_data"
    }
   ],
   "source": [
    "# Evaluation metrics\n",
    "# Calculate accuracy\n",
    "accuracy = accuracy_score(y_test, yhat)\n",
    "print(f'Accuracy: {accuracy:.2f}')\n",
    "\n",
    "# Calculate confusion matrix\n",
    "cm = confusion_matrix(y_test, yhat)\n",
    "print('Confusion Matrix:')\n",
    "print(cm)\n",
    "\n",
    "# Visualize confusion matrix\n",
    "plt.figure(figsize=(6, 4))\n",
    "sns.heatmap(cm, annot=True, fmt='d', cmap='Blues')\n",
    "plt.xlabel('Predicted')\n",
    "plt.ylabel('Actual')\n",
    "plt.title('Confusion Matrix')\n",
    "plt.show()\n",
    "\n",
    "# Calculate precision\n",
    "precision = precision_score(y_test, yhat)\n",
    "print(f'Precision: {precision:.2f}')\n",
    "\n",
    "# Calculate recall\n",
    "recall = recall_score(y_test, yhat)\n",
    "print(f'Recall: {recall:.2f}')\n",
    "\n",
    "# Calculate F1 score\n",
    "f1 = f1_score(y_test, yhat)\n",
    "print(f'F1 Score: {f1:.2f}')\n",
    "\n",
    "# Calculate ROC AUC score\n",
    "roc_auc = roc_auc_score(y_test, yhat)\n",
    "print(f'ROC AUC Score: {roc_auc:.2f}')\n",
    "\n",
    "# Plot ROC curve\n",
    "fpr, tpr, _ = roc_curve(y_test, yhat)\n",
    "plt.figure()\n",
    "plt.plot(fpr, tpr, label='ROC curve (area = %0.4f)' % roc_auc)\n",
    "plt.plot([0, 1], [0, 1], 'k--')\n",
    "plt.xlim([0.0, 1.0])\n",
    "plt.ylim([0.0, 1.05])\n",
    "plt.xlabel('False Positive Rate')\n",
    "plt.ylabel('True Positive Rate')\n",
    "plt.title('Receiver Operating Characteristic')\n",
    "plt.legend(loc=\"lower right\")\n",
    "plt.show()"
   ]
  },
  {
   "cell_type": "code",
   "execution_count": null,
   "id": "0063c077-6d87-47ec-9335-71c24a1aa7ac",
   "metadata": {},
   "outputs": [],
   "source": [
    "from xgboost import plot_importance\n",
    "\n",
    "plt.figure(figsize=(10, 8))\n",
    "plot_importance(best_model, importance_type='weight')\n",
    "plt.title('Feature Importance')\n",
    "plt.show()"
   ]
  },
  {
   "cell_type": "code",
   "execution_count": null,
   "id": "cff5c6f5-2ff7-451e-b123-d9e5840f3ce5",
   "metadata": {},
   "outputs": [],
   "source": []
  },
  {
   "cell_type": "code",
   "execution_count": null,
   "id": "9363c95c-9bd2-4cb9-b47b-3ecc0bff804a",
   "metadata": {},
   "outputs": [],
   "source": []
  },
  {
   "cell_type": "code",
   "execution_count": null,
   "id": "47500391-275e-4622-ac4b-e41684559919",
   "metadata": {},
   "outputs": [],
   "source": []
  }
 ],
 "metadata": {
  "kernelspec": {
   "display_name": "Python 3 (ipykernel)",
   "language": "python",
   "name": "python3"
  },
  "language_info": {
   "codemirror_mode": {
    "name": "ipython",
    "version": 3
   },
   "file_extension": ".py",
   "mimetype": "text/x-python",
   "name": "python",
   "nbconvert_exporter": "python",
   "pygments_lexer": "ipython3",
   "version": "3.12.5"
  }
 },
 "nbformat": 4,
 "nbformat_minor": 5
}
